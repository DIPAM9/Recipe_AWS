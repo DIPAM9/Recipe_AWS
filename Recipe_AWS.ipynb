{
 "cells": [
  {
   "cell_type": "code",
   "execution_count": 247,
   "metadata": {},
   "outputs": [],
   "source": [
    "import json\n",
    "import pandas as pd"
   ]
  },
  {
   "cell_type": "code",
   "execution_count": 248,
   "metadata": {},
   "outputs": [
    {
     "name": "stdout",
     "output_type": "stream",
     "text": [
      "Requirement already satisfied: psycopg2 in c:\\users\\user\\anaconda3\\lib\\site-packages (2.8.4)\n"
     ]
    }
   ],
   "source": [
    "!pip install psycopg2"
   ]
  },
  {
   "cell_type": "markdown",
   "metadata": {},
   "source": [
    "# Opening JSON file "
   ]
  },
  {
   "cell_type": "code",
   "execution_count": 249,
   "metadata": {},
   "outputs": [],
   "source": [
    "with open(\"test.json\") as datafile:\n",
    "    data_test = json.load(datafile)"
   ]
  },
  {
   "cell_type": "code",
   "execution_count": 250,
   "metadata": {},
   "outputs": [],
   "source": [
    "with open(\"train.json\") as datafile:\n",
    "    data_train = json.load(datafile)"
   ]
  },
  {
   "cell_type": "code",
   "execution_count": 251,
   "metadata": {},
   "outputs": [
    {
     "data": {
      "text/plain": [
       "{'id': 10259,\n",
       " 'cuisine': 'greek',\n",
       " 'ingredients': ['romaine lettuce',\n",
       "  'black olives',\n",
       "  'grape tomatoes',\n",
       "  'garlic',\n",
       "  'pepper',\n",
       "  'purple onion',\n",
       "  'seasoning',\n",
       "  'garbanzo beans',\n",
       "  'feta cheese crumbles']}"
      ]
     },
     "execution_count": 251,
     "metadata": {},
     "output_type": "execute_result"
    }
   ],
   "source": [
    "data_train[0]"
   ]
  },
  {
   "cell_type": "code",
   "execution_count": 252,
   "metadata": {},
   "outputs": [],
   "source": [
    "data=pd.DataFrame(data_train[0])"
   ]
  },
  {
   "cell_type": "code",
   "execution_count": 253,
   "metadata": {},
   "outputs": [
    {
     "data": {
      "text/plain": [
       "array([0, 1, 2, 3, 4, 5, 6, 7, 8], dtype=int64)"
      ]
     },
     "execution_count": 253,
     "metadata": {},
     "output_type": "execute_result"
    }
   ],
   "source": [
    "data.index.values"
   ]
  },
  {
   "cell_type": "code",
   "execution_count": 254,
   "metadata": {},
   "outputs": [
    {
     "data": {
      "text/plain": [
       "'greek'"
      ]
     },
     "execution_count": 254,
     "metadata": {},
     "output_type": "execute_result"
    }
   ],
   "source": [
    "data['cuisine'].values[0]"
   ]
  },
  {
   "cell_type": "code",
   "execution_count": 255,
   "metadata": {},
   "outputs": [
    {
     "data": {
      "text/plain": [
       "10259"
      ]
     },
     "execution_count": 255,
     "metadata": {},
     "output_type": "execute_result"
    }
   ],
   "source": [
    "data['id'].values[0]"
   ]
  },
  {
   "cell_type": "code",
   "execution_count": 256,
   "metadata": {},
   "outputs": [],
   "source": [
    "ingred_id=[]\n",
    "cuisine_id=[]\n",
    "cuisine=[]\n",
    "dish_id=[]\n",
    "ingredients=[]\n",
    "\n",
    "for i in range(len(data_train)):\n",
    "    data=pd.DataFrame(data_train[i])\n",
    "    dish_id.append(i)\n",
    "    for j in range(len(data)):\n",
    "        ingred_id.append(data.index.values[j].astype(float))\n",
    "        ingredients.append(data['ingredients'][j])\n",
    "    cuisine.append(data['cuisine'].values[0])\n",
    "    cuisine_id.append(data['id'].values[0].astype(float))    "
   ]
  },
  {
   "cell_type": "code",
   "execution_count": 257,
   "metadata": {},
   "outputs": [
    {
     "data": {
      "text/plain": [
       "39774"
      ]
     },
     "execution_count": 257,
     "metadata": {},
     "output_type": "execute_result"
    }
   ],
   "source": [
    "len(data_train)"
   ]
  },
  {
   "cell_type": "code",
   "execution_count": 258,
   "metadata": {},
   "outputs": [],
   "source": [
    "import psycopg2"
   ]
  },
  {
   "cell_type": "code",
   "execution_count": 259,
   "metadata": {},
   "outputs": [],
   "source": [
    "conn=psycopg2.connect(host='database-3.cj7bqpy1ed9k.us-east-2.rds.amazonaws.com', user='postgres', password='postgres', database='Recipe')"
   ]
  },
  {
   "cell_type": "code",
   "execution_count": 260,
   "metadata": {},
   "outputs": [],
   "source": [
    "mycursor=conn.cursor()"
   ]
  },
  {
   "cell_type": "code",
   "execution_count": 261,
   "metadata": {},
   "outputs": [],
   "source": [
    "conn.set_session(autocommit=True)"
   ]
  },
  {
   "cell_type": "code",
   "execution_count": 265,
   "metadata": {},
   "outputs": [],
   "source": [
    "#creating a function merge which will merge two lists into a single list\n",
    "\n",
    "def merge(list1, list2): \n",
    "      \n",
    "    merged_list = [(list1[i], list2[i]) for i in range(0, len(list1))] \n",
    "    return merged_list"
   ]
  },
  {
   "cell_type": "code",
   "execution_count": 266,
   "metadata": {},
   "outputs": [],
   "source": [
    "record_dish=merge(dish_id,cuisine)"
   ]
  },
  {
   "cell_type": "code",
   "execution_count": 267,
   "metadata": {},
   "outputs": [
    {
     "data": {
      "text/plain": [
       "39774"
      ]
     },
     "execution_count": 267,
     "metadata": {},
     "output_type": "execute_result"
    }
   ],
   "source": [
    "len(record_dish)"
   ]
  },
  {
   "cell_type": "code",
   "execution_count": 268,
   "metadata": {},
   "outputs": [
    {
     "data": {
      "text/plain": [
       "list"
      ]
     },
     "execution_count": 268,
     "metadata": {},
     "output_type": "execute_result"
    }
   ],
   "source": [
    "type(record_dish)"
   ]
  },
  {
   "cell_type": "code",
   "execution_count": 269,
   "metadata": {},
   "outputs": [],
   "source": [
    "import psycopg2.extras"
   ]
  },
  {
   "cell_type": "code",
   "execution_count": 270,
   "metadata": {},
   "outputs": [],
   "source": [
    "#creating the table\n",
    "\n",
    "try:\n",
    "    mycursor.execute('CREATE TABLE ITEMS (DISH_ID INTEGER PRIMARY KEY, CUISINE_TYPE VARCHAR) ')\n",
    "except psycopg2.errors as e:\n",
    "    print(e)"
   ]
  },
  {
   "cell_type": "code",
   "execution_count": 271,
   "metadata": {},
   "outputs": [],
   "source": [
    "#insert the 'record_dish' list to database 'items' one by one \n",
    "\n",
    "def insert_dish(data):\n",
    "    try:\n",
    "        sql_insert_query = \"\"\" INSERT INTO ITEMS (DISH_ID,CUISINE_TYPE) VALUES %s \"\"\"\n",
    "        psycopg2.extras.execute_values (mycursor, sql_insert_query, data, template=None, page_size=10000)\n",
    "        _ = conn.commit()\n",
    "    except psycopg2.errors as e:\n",
    "        print(e)"
   ]
  },
  {
   "cell_type": "code",
   "execution_count": 272,
   "metadata": {},
   "outputs": [],
   "source": [
    "insert_dish(record_dish)"
   ]
  },
  {
   "cell_type": "code",
   "execution_count": 273,
   "metadata": {},
   "outputs": [],
   "source": [
    "record_cuisine=merge(cuisine_id,cuisine)"
   ]
  },
  {
   "cell_type": "code",
   "execution_count": 274,
   "metadata": {},
   "outputs": [],
   "source": [
    "#creating the table\n",
    "\n",
    "try:\n",
    "    mycursor.execute('CREATE TABLE CUISINES (CUISINE_ID INTEGER PRIMARY KEY, CUISINE_NAME VARCHAR) ')\n",
    "except psycopg2.errors as e:\n",
    "    print(e)"
   ]
  },
  {
   "cell_type": "code",
   "execution_count": 275,
   "metadata": {},
   "outputs": [],
   "source": [
    "#insert the 'record_cuisine' list to database 'cuisines' one by one \n",
    "\n",
    "def insert_cuisine(data):\n",
    "    try:\n",
    "        sql_insert_query = \"\"\" INSERT INTO CUISINES (CUISINE_ID,CUISINE_NAME) VALUES %s \"\"\"\n",
    "        psycopg2.extras.execute_values (mycursor, sql_insert_query, data, template=None, page_size=10000)\n",
    "        _ = conn.commit()\n",
    "    except psycopg2.errors as e:\n",
    "        print(e)"
   ]
  },
  {
   "cell_type": "code",
   "execution_count": 276,
   "metadata": {},
   "outputs": [],
   "source": [
    "insert_cuisine(record_cuisine)"
   ]
  },
  {
   "cell_type": "code",
   "execution_count": 281,
   "metadata": {},
   "outputs": [],
   "source": [
    "#creating the table\n",
    "\n",
    "try:\n",
    "    mycursor.execute('CREATE TABLE INGREDIENTS (INGRED_ID INTEGER, INGREDIENTS VARCHAR) ')\n",
    "except psycopg2.errors as e:\n",
    "    print(e)"
   ]
  },
  {
   "cell_type": "code",
   "execution_count": 282,
   "metadata": {},
   "outputs": [],
   "source": [
    "record_ingred=merge(ingred_id,ingredients)"
   ]
  },
  {
   "cell_type": "code",
   "execution_count": 283,
   "metadata": {},
   "outputs": [],
   "source": [
    "#insert the 'record_ingred' list to database 'ingredients' one by one \n",
    "\n",
    "def insert_ingred(data):\n",
    "    try:\n",
    "        sql_insert_query = \"\"\" INSERT INTO INGREDIENTS (INGRED_ID,INGREDIENTS) VALUES %s \"\"\"\n",
    "        psycopg2.extras.execute_values (mycursor, sql_insert_query, data, template=None, page_size=10000)\n",
    "        _ = conn.commit()\n",
    "    except psycopg2.errors as e:\n",
    "        print(e)"
   ]
  },
  {
   "cell_type": "code",
   "execution_count": 284,
   "metadata": {},
   "outputs": [],
   "source": [
    "insert_ingred(record_ingred)"
   ]
  },
  {
   "cell_type": "code",
   "execution_count": 286,
   "metadata": {},
   "outputs": [],
   "source": [
    "#creating the table\n",
    "\n",
    "try:\n",
    "    mycursor.execute('CREATE TABLE DISHES (DISH_ID INTEGER PRIMARY KEY,INGRED_ID INTEGER ) ')\n",
    "except psycopg2.errors as e:\n",
    "    print(e)"
   ]
  },
  {
   "cell_type": "code",
   "execution_count": 287,
   "metadata": {},
   "outputs": [],
   "source": [
    "record_merge=merge(dish_id,ingred_id)"
   ]
  },
  {
   "cell_type": "code",
   "execution_count": 288,
   "metadata": {},
   "outputs": [],
   "source": [
    "#insert the 'record_merge' list to database 'dishes' one by one \n",
    "\n",
    "def insert_merge(data):\n",
    "    try:\n",
    "        sql_insert_query = \"\"\" INSERT INTO DISHES (DISH_ID,INGRED_ID) VALUES %s \"\"\"\n",
    "        psycopg2.extras.execute_values (mycursor, sql_insert_query, data, template=None, page_size=10000)\n",
    "        _ = conn.commit()\n",
    "    except psycopg2.errors as e:\n",
    "        print(e)"
   ]
  },
  {
   "cell_type": "code",
   "execution_count": 289,
   "metadata": {},
   "outputs": [],
   "source": [
    "insert_merge(record_merge)"
   ]
  },
  {
   "cell_type": "code",
   "execution_count": null,
   "metadata": {},
   "outputs": [],
   "source": []
  }
 ],
 "metadata": {
  "kernelspec": {
   "display_name": "Python 3",
   "language": "python",
   "name": "python3"
  },
  "language_info": {
   "codemirror_mode": {
    "name": "ipython",
    "version": 3
   },
   "file_extension": ".py",
   "mimetype": "text/x-python",
   "name": "python",
   "nbconvert_exporter": "python",
   "pygments_lexer": "ipython3",
   "version": "3.7.1"
  }
 },
 "nbformat": 4,
 "nbformat_minor": 2
}
